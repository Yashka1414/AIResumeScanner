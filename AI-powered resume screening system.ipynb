{
 "cells": [
  {
   "cell_type": "code",
   "execution_count": 1,
   "id": "2e99b2dd-9b83-457b-bd64-5513953cbf11",
   "metadata": {},
   "outputs": [],
   "source": [
    "import pandas as pd\n"
   ]
  },
  {
   "cell_type": "code",
   "execution_count": 2,
   "id": "2bb9b235-4882-4441-931d-10cbdd300401",
   "metadata": {},
   "outputs": [
    {
     "data": {
      "text/html": [
       "<div>\n",
       "<style scoped>\n",
       "    .dataframe tbody tr th:only-of-type {\n",
       "        vertical-align: middle;\n",
       "    }\n",
       "\n",
       "    .dataframe tbody tr th {\n",
       "        vertical-align: top;\n",
       "    }\n",
       "\n",
       "    .dataframe thead th {\n",
       "        text-align: right;\n",
       "    }\n",
       "</style>\n",
       "<table border=\"1\" class=\"dataframe\">\n",
       "  <thead>\n",
       "    <tr style=\"text-align: right;\">\n",
       "      <th></th>\n",
       "      <th>Name</th>\n",
       "      <th>Resume Text</th>\n",
       "    </tr>\n",
       "  </thead>\n",
       "  <tbody>\n",
       "    <tr>\n",
       "      <th>0</th>\n",
       "      <td>John Doe</td>\n",
       "      <td>Experienced Python developer with machine lear...</td>\n",
       "    </tr>\n",
       "    <tr>\n",
       "      <th>1</th>\n",
       "      <td>Jane Smith</td>\n",
       "      <td>Project manager with leadership and agile expe...</td>\n",
       "    </tr>\n",
       "    <tr>\n",
       "      <th>2</th>\n",
       "      <td>Alex Johnson</td>\n",
       "      <td>Data analyst skilled in SQL, Python, and data ...</td>\n",
       "    </tr>\n",
       "  </tbody>\n",
       "</table>\n",
       "</div>"
      ],
      "text/plain": [
       "           Name                                        Resume Text\n",
       "0      John Doe  Experienced Python developer with machine lear...\n",
       "1    Jane Smith  Project manager with leadership and agile expe...\n",
       "2  Alex Johnson  Data analyst skilled in SQL, Python, and data ..."
      ]
     },
     "execution_count": 2,
     "metadata": {},
     "output_type": "execute_result"
    }
   ],
   "source": [
    "# Load resumes from Excel file\n",
    "df = pd.read_excel('resumes.xlsx')\n",
    "\n",
    "# Show the data\n",
    "df.head()\n"
   ]
  },
  {
   "cell_type": "code",
   "execution_count": 3,
   "id": "38e09085-b32a-4322-be34-fed7547f9c79",
   "metadata": {},
   "outputs": [],
   "source": [
    "# Define your keywords\n",
    "keywords = ['python', 'machine learning', 'sql', 'data analysis']\n"
   ]
  },
  {
   "cell_type": "code",
   "execution_count": 4,
   "id": "fe8141e1-441e-4962-97d6-4d3e352dea45",
   "metadata": {},
   "outputs": [
    {
     "data": {
      "text/html": [
       "<div>\n",
       "<style scoped>\n",
       "    .dataframe tbody tr th:only-of-type {\n",
       "        vertical-align: middle;\n",
       "    }\n",
       "\n",
       "    .dataframe tbody tr th {\n",
       "        vertical-align: top;\n",
       "    }\n",
       "\n",
       "    .dataframe thead th {\n",
       "        text-align: right;\n",
       "    }\n",
       "</style>\n",
       "<table border=\"1\" class=\"dataframe\">\n",
       "  <thead>\n",
       "    <tr style=\"text-align: right;\">\n",
       "      <th></th>\n",
       "      <th>Name</th>\n",
       "      <th>Resume Text</th>\n",
       "      <th>Score</th>\n",
       "    </tr>\n",
       "  </thead>\n",
       "  <tbody>\n",
       "    <tr>\n",
       "      <th>0</th>\n",
       "      <td>John Doe</td>\n",
       "      <td>Experienced Python developer with machine lear...</td>\n",
       "      <td>2</td>\n",
       "    </tr>\n",
       "    <tr>\n",
       "      <th>1</th>\n",
       "      <td>Jane Smith</td>\n",
       "      <td>Project manager with leadership and agile expe...</td>\n",
       "      <td>0</td>\n",
       "    </tr>\n",
       "    <tr>\n",
       "      <th>2</th>\n",
       "      <td>Alex Johnson</td>\n",
       "      <td>Data analyst skilled in SQL, Python, and data ...</td>\n",
       "      <td>2</td>\n",
       "    </tr>\n",
       "  </tbody>\n",
       "</table>\n",
       "</div>"
      ],
      "text/plain": [
       "           Name                                        Resume Text  Score\n",
       "0      John Doe  Experienced Python developer with machine lear...      2\n",
       "1    Jane Smith  Project manager with leadership and agile expe...      0\n",
       "2  Alex Johnson  Data analyst skilled in SQL, Python, and data ...      2"
      ]
     },
     "execution_count": 4,
     "metadata": {},
     "output_type": "execute_result"
    }
   ],
   "source": [
    "# Function to score each resume\n",
    "def score_resume(resume):\n",
    "    resume = str(resume).lower()\n",
    "    score = sum([1 for word in keywords if word in resume])\n",
    "    return score\n",
    "\n",
    "# Apply scoring to each resume\n",
    "df['Score'] = df['Resume Text'].apply(score_resume)\n",
    "\n",
    "# Show results\n",
    "df\n"
   ]
  },
  {
   "cell_type": "code",
   "execution_count": 5,
   "id": "f61bf8f8-5adc-4ae8-b04f-8435122eda53",
   "metadata": {},
   "outputs": [
    {
     "name": "stdout",
     "output_type": "stream",
     "text": [
      "Results saved to 'resume_screening_results.xlsx'\n"
     ]
    }
   ],
   "source": [
    "# Save the results to a new Excel file\n",
    "df.to_excel('resume_screening_results.xlsx', index=False)\n",
    "\n",
    "print(\"Results saved to 'resume_screening_results.xlsx'\")\n"
   ]
  },
  {
   "cell_type": "code",
   "execution_count": null,
   "id": "90bf951f-44f9-499d-a43c-ad69c15588da",
   "metadata": {},
   "outputs": [],
   "source": []
  }
 ],
 "metadata": {
  "kernelspec": {
   "display_name": "Python 3 (ipykernel)",
   "language": "python",
   "name": "python3"
  },
  "language_info": {
   "codemirror_mode": {
    "name": "ipython",
    "version": 3
   },
   "file_extension": ".py",
   "mimetype": "text/x-python",
   "name": "python",
   "nbconvert_exporter": "python",
   "pygments_lexer": "ipython3",
   "version": "3.13.5"
  }
 },
 "nbformat": 4,
 "nbformat_minor": 5
}
